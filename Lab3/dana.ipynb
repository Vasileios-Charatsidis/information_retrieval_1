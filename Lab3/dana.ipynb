{
 "cells": [
  {
   "cell_type": "code",
   "execution_count": 6,
   "metadata": {
    "collapsed": false
   },
   "outputs": [],
   "source": [
    "import LambdaRankHW\n",
    "import numpy as np\n",
    "import query\n",
    "import os"
   ]
  },
  {
   "cell_type": "code",
   "execution_count": 24,
   "metadata": {
    "collapsed": false
   },
   "outputs": [
    {
     "name": "stdout",
     "output_type": "stream",
     "text": [
      "loaded  0\n",
      "loaded queries from file\n",
      "loaded  0\n",
      "loaded queries from file\n",
      "loaded  0\n",
      "loaded queries from file\n"
     ]
    }
   ],
   "source": [
    "train_queries = query.load_queries(os.path.normpath('./HP2003/Fold1/train.txt'), 64)\n",
    "test_queries = query.load_queries(os.path.normpath('./HP2003/Fold1/test.txt'), 64)\n",
    "val_queries = query.load_queries(os.path.normpath('./HP2003/Fold1/vali.txt'), 64)"
   ]
  },
  {
   "cell_type": "code",
   "execution_count": null,
   "metadata": {
    "collapsed": false
   },
   "outputs": [],
   "source": []
  },
  {
   "cell_type": "raw",
   "metadata": {},
   "source": []
  },
  {
   "cell_type": "code",
   "execution_count": 6,
   "metadata": {
    "collapsed": false
   },
   "outputs": [
    {
     "name": "stdout",
     "output_type": "stream",
     "text": [
      "training points 90\n",
      "testing points 30\n",
      "validation points 30\n"
     ]
    }
   ],
   "source": [
    "print('training points', len(train_queries))\n",
    "print('testing points', len(test_queries))\n",
    "print('validation points', len(val_queries))"
   ]
  },
  {
   "cell_type": "code",
   "execution_count": 7,
   "metadata": {
    "collapsed": false
   },
   "outputs": [],
   "source": [
    "num_docs = []\n",
    "for query in train_queries:\n",
    "    num_docs.append(query.get_document_count())"
   ]
  },
  {
   "cell_type": "code",
   "execution_count": 34,
   "metadata": {
    "collapsed": false
   },
   "outputs": [
    {
     "name": "stdout",
     "output_type": "stream",
     "text": [
      "[1000, 1000, 1000, 1000, 1000, 1000, 1000, 1000, 1000, 1000, 1000, 1000, 1000, 1000, 1000, 1000, 1000, 1000, 1000, 1000, 1000, 1000, 1000, 1000, 1000, 1000, 1000, 1000, 1000, 1000, 1000, 1000, 1000, 1000, 1000, 1000, 1000, 1000, 1000, 1000, 1000, 1000, 1000, 1000, 1000, 1000, 1000, 1000, 1000, 1000, 1000, 1000, 1000, 1000, 1000, 1000, 1000, 1000, 1000, 1000, 1000, 1000, 1000, 1000, 1000, 1000, 1000, 1000, 1000, 1000, 1000, 1000, 1000, 1000, 1000, 1000, 1000, 1000, 1000, 1000, 1000, 197, 1000, 1000, 1000, 1000, 1000, 1000, 1000, 1000]\n"
     ]
    }
   ],
   "source": [
    "print(num_docs)"
   ]
  },
  {
   "cell_type": "code",
   "execution_count": 8,
   "metadata": {
    "collapsed": false
   },
   "outputs": [],
   "source": [
    "train_qids = set(train_queries.keys())\n",
    "test_qids = set(test_queries.keys())\n",
    "val_qids = set(val_queries.keys())\n",
    "all_qids = set.union(train_qids, test_qids, val_qids) "
   ]
  },
  {
   "cell_type": "code",
   "execution_count": 76,
   "metadata": {
    "collapsed": false
   },
   "outputs": [
    {
     "name": "stdout",
     "output_type": "stream",
     "text": [
      "['152', '155', '158', '161', '162', '163', '166', '167', '168', '172', '174', '175', '176', '181', '183', '184', '186', '187', '192', '195', '199', '200', '201', '205', '208', '222', '226', '230', '233', '235', '238', '244', '245', '252', '254', '255', '257', '258', '260', '261', '262', '263', '265', '266', '267', '268', '269', '271', '273', '279', '280', '283', '284', '287', '288', '290', '291', '292', '294', '297', '299', '300', '302', '305', '307', '308', '309', '311', '313', '316', '317', '318', '319', '321', '322', '326', '328', '330', '332', '333', '334', '336', '337', '338', '339', '341', '343', '344', '346', '349', '350', '355', '356', '357', '361', '363', '364', '365', '367', '370', '371', '372', '374', '375', '376', '377', '378', '380', '381', '384', '385', '386', '387', '388', '389', '390', '392', '393', '394', '395', '396', '397', '398', '401', '403', '406', '407', '412', '414', '415', '418', '419', '420', '421', '422', '425', '429', '432', '433', '434', '435', '436', '437', '442', '443', '444', '445', '446', '447', '448']\n"
     ]
    }
   ],
   "source": [
    "from operator import itemgetter\n",
    "print(sorted(all_qids))"
   ]
  },
  {
   "cell_type": "code",
   "execution_count": 9,
   "metadata": {
    "collapsed": false
   },
   "outputs": [],
   "source": [
    "doc_ids = set()\n",
    "\n",
    "for x in train_queries:\n",
    "    doc_ids = set.union(set([doc.get_id() for doc in x.get_docids()]), doc_ids)\n",
    "    \n",
    "for x in test_queries:\n",
    "    doc_ids = set.union(set([doc.get_id() for doc in x.get_docids()]), doc_ids)\n",
    "\n",
    "for x in val_queries:\n",
    "    doc_ids = set.union(set([doc.get_id() for doc in x.get_docids()]), doc_ids)"
   ]
  },
  {
   "cell_type": "code",
   "execution_count": 71,
   "metadata": {
    "collapsed": false
   },
   "outputs": [
    {
     "name": "stdout",
     "output_type": "stream",
     "text": [
      "1000\n"
     ]
    }
   ],
   "source": [
    "print(len(doc_ids))"
   ]
  },
  {
   "cell_type": "code",
   "execution_count": 21,
   "metadata": {
    "collapsed": false
   },
   "outputs": [],
   "source": [
    "from scipy.sparse import dok_matrix\n",
    "\n",
    "S = dok_matrix((1000,1000), dtype=np.float32)\n",
    "q = query\n",
    "ds = [doc.get_id() for doc in q.get_docids()]\n",
    "labels = np.array(q.get_labels())\n",
    "ones_idx = np.where(labels == 1)\n",
    "nonones_idx = np.where(labels != 1)\n",
    "for i in ones_idx:\n",
    "    for j in nonones_idx:\n",
    "        S[i,j] = 1"
   ]
  },
  {
   "cell_type": "markdown",
   "metadata": {
    "collapsed": false
   },
   "source": [
    "print(S.sum())\n",
    "print(labels.sum())\n",
    "print(q.get_qid())"
   ]
  },
  {
   "cell_type": "code",
   "execution_count": 38,
   "metadata": {
    "collapsed": false
   },
   "outputs": [
    {
     "data": {
      "text/plain": [
       "(array([5], dtype=int64),)"
      ]
     },
     "execution_count": 38,
     "metadata": {},
     "output_type": "execute_result"
    }
   ],
   "source": [
    "np.where(np.array(q.get_labels()) == 1)"
   ]
  },
  {
   "cell_type": "code",
   "execution_count": 41,
   "metadata": {
    "collapsed": false
   },
   "outputs": [
    {
     "name": "stdout",
     "output_type": "stream",
     "text": [
      "[<1x1000 sparse matrix of type '<class 'numpy.float32'>'\n",
      "\twith 999 stored elements in Dictionary Of Keys format>]\n"
     ]
    }
   ],
   "source": [
    "wins = list(S[5,:])\n",
    "print(wins)"
   ]
  },
  {
   "cell_type": "code",
   "execution_count": 3,
   "metadata": {
    "collapsed": false,
    "scrolled": true
   },
   "outputs": [
    {
     "ename": "SyntaxError",
     "evalue": "unexpected EOF while parsing (<ipython-input-3-69ed906a93b5>, line 2)",
     "output_type": "error",
     "traceback": [
      "\u001b[0;36m  File \u001b[0;32m\"<ipython-input-3-69ed906a93b5>\"\u001b[0;36m, line \u001b[0;32m2\u001b[0m\n\u001b[0;31m    #     print(i,v)\u001b[0m\n\u001b[0m                    ^\u001b[0m\n\u001b[0;31mSyntaxError\u001b[0m\u001b[0;31m:\u001b[0m unexpected EOF while parsing\n"
     ]
    }
   ],
   "source": [
    "for i,v in S.items():\n",
    "#     print(i,v)"
   ]
  },
  {
   "cell_type": "code",
   "execution_count": 34,
   "metadata": {
    "collapsed": false
   },
   "outputs": [
    {
     "data": {
      "text/plain": [
       "2.0"
      ]
     },
     "execution_count": 34,
     "metadata": {},
     "output_type": "execute_result"
    }
   ],
   "source": [
    "sum(train_queries['257'].get_labels())"
   ]
  },
  {
   "cell_type": "code",
   "execution_count": 106,
   "metadata": {
    "collapsed": false
   },
   "outputs": [],
   "source": [
    "q_d = {}\n",
    "\n",
    "with open(os.path.normpath('./HP2003/Fold1/train.txt'),'r') as f:\n",
    "    for line in f:\n",
    "        a = line.split()\n",
    "        qid = a[1].replace('qid:','')\n",
    "        \n",
    "        if qid not in q_d:\n",
    "            q_d[qid] = set()\n",
    "        \n",
    "        q_d[qid].add(a[-1]) # add doc id"
   ]
  },
  {
   "cell_type": "code",
   "execution_count": 41,
   "metadata": {
    "collapsed": false,
    "scrolled": false
   },
   "outputs": [
    {
     "name": "stdout",
     "output_type": "stream",
     "text": [
      "\n",
      "Loading train queries\n",
      "loaded  0\n",
      "loaded queries from file\n",
      "\n",
      "Loading val queries\n",
      "loaded  0\n",
      "loaded queries from file\n",
      "Creating the S Matrix...\n",
      "input_dim 64 output_dim 1\n",
      "finished create_iter_functions\n",
      "Epoch 50 of 500 took 3.889s\n",
      "training loss:\t\t0.001582\n",
      "val mNDCG:\t\t0.638097\n",
      "\n",
      "Epoch 100 of 500 took 3.930s\n",
      "training loss:\t\t0.001528\n",
      "val mNDCG:\t\t0.655496\n",
      "\n",
      "Epoch 150 of 500 took 3.925s\n",
      "training loss:\t\t0.001566\n",
      "val mNDCG:\t\t0.658391\n",
      "\n",
      "Epoch 200 of 500 took 4.000s\n",
      "training loss:\t\t0.001723\n",
      "val mNDCG:\t\t0.604693\n",
      "\n",
      "Epoch 250 of 500 took 4.006s\n",
      "training loss:\t\t0.001443\n",
      "val mNDCG:\t\t0.645281\n",
      "\n",
      "Epoch 300 of 500 took 3.796s\n",
      "training loss:\t\t0.001444\n",
      "val mNDCG:\t\t0.660911\n",
      "\n",
      "Epoch 350 of 500 took 3.893s\n",
      "training loss:\t\t0.001472\n",
      "val mNDCG:\t\t0.660139\n",
      "\n",
      "Epoch 400 of 500 took 3.826s\n",
      "training loss:\t\t0.001420\n",
      "val mNDCG:\t\t0.626510\n",
      "\n",
      "Epoch 450 of 500 took 3.745s\n",
      "training loss:\t\t0.001403\n",
      "val mNDCG:\t\t0.646573\n",
      "\n",
      "Epoch 500 of 500 took 3.839s\n",
      "training loss:\t\t0.001411\n",
      "val mNDCG:\t\t0.613760\n",
      "\n",
      "\n",
      "Loading train queries\n",
      "loaded  0\n",
      "loaded queries from file\n",
      "\n",
      "Loading val queries\n",
      "loaded  0\n",
      "loaded queries from file\n",
      "Creating the S Matrix...\n",
      "input_dim 64 output_dim 1\n",
      "finished create_iter_functions\n",
      "Epoch 50 of 500 took 3.924s\n",
      "training loss:\t\t0.001120\n",
      "val mNDCG:\t\t0.646913\n",
      "\n",
      "Epoch 100 of 500 took 3.911s\n",
      "training loss:\t\t0.001222\n",
      "val mNDCG:\t\t0.670955\n",
      "\n",
      "Epoch 150 of 500 took 3.986s\n",
      "training loss:\t\t0.000972\n",
      "val mNDCG:\t\t0.665002\n",
      "\n",
      "Epoch 200 of 500 took 3.822s\n",
      "training loss:\t\t0.001000\n",
      "val mNDCG:\t\t0.676343\n",
      "\n",
      "Epoch 250 of 500 took 3.895s\n",
      "training loss:\t\t0.000988\n",
      "val mNDCG:\t\t0.652383\n",
      "\n",
      "Epoch 300 of 500 took 3.883s\n",
      "training loss:\t\t0.001039\n",
      "val mNDCG:\t\t0.692633\n",
      "\n",
      "Epoch 350 of 500 took 3.974s\n",
      "training loss:\t\t0.000950\n",
      "val mNDCG:\t\t0.655167\n",
      "\n",
      "Epoch 400 of 500 took 4.038s\n",
      "training loss:\t\t0.000965\n",
      "val mNDCG:\t\t0.672161\n",
      "\n",
      "Epoch 450 of 500 took 4.070s\n",
      "training loss:\t\t0.000914\n",
      "val mNDCG:\t\t0.670770\n",
      "\n",
      "Epoch 500 of 500 took 3.933s\n",
      "training loss:\t\t0.000927\n",
      "val mNDCG:\t\t0.665781\n",
      "\n"
     ]
    }
   ],
   "source": [
    "import importlib\n",
    "importlib.reload(hw3_ref)\n",
    "NUM_EPOCHS = 500\n",
    "\n",
    "BATCH_SIZE = 1000\n",
    "NUM_HIDDEN_UNITS = 100\n",
    "LEARNING_RATE = 0.00005\n",
    "MOMENTUM = 0.95\n",
    "\n",
    "POINTWISE = 'pointwise'\n",
    "PAIRWISE = 'pairwise'\n",
    "LISTWISE = 'listwise'\n",
    "\n",
    "n_epochs = 500\n",
    "measure_type = POINTWISE\n",
    "num_features = 64\n",
    "num_folds = 2\n",
    "\n",
    "res = hw3_ref.experiment(n_epochs, measure_type, num_features, num_folds)\n"
   ]
  },
  {
   "cell_type": "code",
   "execution_count": 54,
   "metadata": {
    "collapsed": false,
    "scrolled": true
   },
   "outputs": [
    {
     "name": "stdout",
     "output_type": "stream",
     "text": [
      "1\n",
      "2\n"
     ]
    },
    {
     "data": {
      "image/png": "[encoded data removed]",
      "text/plain": [
       "<matplotlib.figure.Figure at 0x1e683b5b6d8>"
      ]
     },
     "metadata": {},
     "output_type": "display_data"
    }
   ],
   "source": [
    "for i in res:\n",
    "    print(i)\n",
    "ndcgs = [[rr['val_mndcg'] for rr in res[i][:-1]] for i in res]  # fold 1\n",
    "\n",
    "df = pd.DataFrame(ndcgs, index=['Fold%d'%d for d in range(1,num_)]).T\n",
    "plt.show()"
   ]
  },
  {
   "cell_type": "code",
   "execution_count": 59,
   "metadata": {
    "collapsed": false
   },
   "outputs": [
    {
     "data": {
      "text/plain": [
       "Index(['Fold1', 'Fold2'], dtype='object')"
      ]
     },
     "execution_count": 59,
     "metadata": {},
     "output_type": "execute_result"
    }
   ],
   "source": []
  },
  {
   "cell_type": "code",
   "execution_count": null,
   "metadata": {
    "collapsed": false
   },
   "outputs": [],
   "source": []
  }
 ],
 "metadata": {
  "anaconda-cloud": {},
  "kernelspec": {
   "display_name": "Python [conda root]",
   "language": "python",
   "name": "conda-root-py"
  },
  "language_info": {
   "codemirror_mode": {
    "name": "ipython",
    "version": 3
   },
   "file_extension": ".py",
   "mimetype": "text/x-python",
   "name": "python",
   "nbconvert_exporter": "python",
   "pygments_lexer": "ipython3",
   "version": "3.5.2"
  }
 },
 "nbformat": 4,
 "nbformat_minor": 0
}
