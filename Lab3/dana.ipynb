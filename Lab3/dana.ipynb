{
 "cells": [
  {
   "cell_type": "code",
   "execution_count": 1,
   "metadata": {
    "collapsed": false
   },
   "outputs": [
    {
     "name": "stderr",
     "output_type": "stream",
     "text": [
      "DEBUG: nvcc STDOUT nvcc warning : The 'compute_20', 'sm_20', and 'sm_21' architectures are deprecated, and may be removed in a future release (Use -Wno-deprecated-gpu-targets to suppress warning).\r\n",
      "mod.cu\r\n",
      "   Creating library C:/Users/Dana/AppData/Local/Theano/compiledir_Windows-10-10.0.14393-SP0-Intel64_Family_6_Model_94_Stepping_3_GenuineIntel-3.5.2-64/tmp4rhcfr62/m91973e5c136ea49268a916ff971b7377.lib and object C:/Users/Dana/AppData/Local/Theano/compiledir_Windows-10-10.0.14393-SP0-Intel64_Family_6_Model_94_Stepping_3_GenuineIntel-3.5.2-64/tmp4rhcfr62/m91973e5c136ea49268a916ff971b7377.exp\r\n",
      "\n",
      "Using gpu device 0: GeForce 940MX (CNMeM is enabled with initial size: 80.0% of memory, CuDNN 5110)\n",
      "C:\\Users\\Dana\\Anaconda3\\lib\\site-packages\\theano\\sandbox\\cuda\\__init__.py:600: UserWarning: Your CuDNN version is more recent then Theano. If you see problems, try updating Theano or downgrading CuDNN to version 4.\n",
      "  warnings.warn(warn)\n",
      "C:\\Users\\Dana\\Anaconda3\\lib\\site-packages\\theano\\tensor\\signal\\downsample.py:6: UserWarning: downsample module has been moved to the theano.tensor.signal.pool module.\n",
      "  \"downsample module has been moved to the theano.tensor.signal.pool module.\")\n"
     ]
    }
   ],
   "source": [
    "from importlib import reload\n",
    "import LambdaRankHW\n",
    "import numpy as np\n",
    "import query\n",
    "import os\n",
    "import matplotlib.pyplot as plt\n",
    "import pandas as pd"
   ]
  },
  {
   "cell_type": "code",
   "execution_count": null,
   "metadata": {
    "collapsed": false
   },
   "outputs": [],
   "source": [
    "train_queries = query.load_queries(os.path.normpath('./HP2003/Fold1/train.txt'), 64)\n",
    "test_queries = query.load_queries(os.path.normpath('./HP2003/Fold1/test.txt'), 64)\n",
    "val_queries = query.load_queries(os.path.normpath('./HP2003/Fold1/vali.txt'), 64)"
   ]
  },
  {
   "cell_type": "code",
   "execution_count": null,
   "metadata": {
    "collapsed": false
   },
   "outputs": [
    {
     "name": "stdout",
     "output_type": "stream",
     "text": [
      "Loading train queries\n"
     ]
    }
   ],
   "source": [
    "%%prun\n",
    "reload(LambdaRankHW)\n",
    "n_epochs = 100\n",
    "measure_type = LambdaRankHW.LISTWISE\n",
    "num_features = 64\n",
    "num_folds = 1\n",
    "\n",
    "res = LambdaRankHW.experiment(n_epochs, measure_type, num_features, num_folds)\n"
   ]
  },
  {
   "cell_type": "code",
   "execution_count": null,
   "metadata": {
    "collapsed": false
   },
   "outputs": [],
   "source": [
    "valndcgs = [[rr['val_mndcg'] for rr in res[i][:-1]] for i in res]  \n",
    "trainndcgs = [[rr['train_mndcg'] for rr in res[i][:-1]] for i in res]  \n",
    "\n",
    "df = pd.DataFrame(valndcgs, index=['Val Fold%d' % d for d in range(1, num_folds + 1)]).T\n",
    "plt.plot(df)\n",
    "df2 = pd.DataFrame(trainndcgs, index=['Train Fold%d' % d for d in range(1, num_folds + 1)]).T\n",
    "plt.plot(df2)\n",
    "plt.legend(df2.columns + df.columns)\n",
    "plt.show()"
   ]
  },
  {
   "cell_type": "code",
   "execution_count": null,
   "metadata": {
    "collapsed": false
   },
   "outputs": [],
   "source": [
    "df"
   ]
  },
  {
   "cell_type": "code",
   "execution_count": null,
   "metadata": {
    "collapsed": false
   },
   "outputs": [],
   "source": []
  }
 ],
 "metadata": {
  "anaconda-cloud": {},
  "kernelspec": {
   "display_name": "Python [conda root]",
   "language": "python",
   "name": "conda-root-py"
  },
  "language_info": {
   "codemirror_mode": {
    "name": "ipython",
    "version": 3
   },
   "file_extension": ".py",
   "mimetype": "text/x-python",
   "name": "python",
   "nbconvert_exporter": "python",
   "pygments_lexer": "ipython3",
   "version": "3.5.2"
  }
 },
 "nbformat": 4,
 "nbformat_minor": 0
}
