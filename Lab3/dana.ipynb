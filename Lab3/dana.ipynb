{
 "cells": [
  {
   "cell_type": "code",
   "execution_count": 1,
   "metadata": {
    "collapsed": false
   },
   "outputs": [
    {
     "name": "stderr",
     "output_type": "stream",
     "text": [
      "DEBUG: nvcc STDOUT nvcc warning : The 'compute_20', 'sm_20', and 'sm_21' architectures are deprecated, and may be removed in a future release (Use -Wno-deprecated-gpu-targets to suppress warning).\r\n",
      "mod.cu\r\n",
      "   Creating library C:/Users/Dana/AppData/Local/Theano/compiledir_Windows-10-10.0.14393-SP0-Intel64_Family_6_Model_94_Stepping_3_GenuineIntel-3.5.2-64/tmpys3ncrrd/m91973e5c136ea49268a916ff971b7377.lib and object C:/Users/Dana/AppData/Local/Theano/compiledir_Windows-10-10.0.14393-SP0-Intel64_Family_6_Model_94_Stepping_3_GenuineIntel-3.5.2-64/tmpys3ncrrd/m91973e5c136ea49268a916ff971b7377.exp\r\n",
      "\n",
      "Using gpu device 0: GeForce 940MX (CNMeM is enabled with initial size: 80.0% of memory, CuDNN 5110)\n",
      "C:\\Users\\Dana\\Anaconda3\\lib\\site-packages\\theano\\sandbox\\cuda\\__init__.py:600: UserWarning: Your CuDNN version is more recent then Theano. If you see problems, try updating Theano or downgrading CuDNN to version 4.\n",
      "  warnings.warn(warn)\n",
      "C:\\Users\\Dana\\Anaconda3\\lib\\site-packages\\theano\\tensor\\signal\\downsample.py:6: UserWarning: downsample module has been moved to the theano.tensor.signal.pool module.\n",
      "  \"downsample module has been moved to the theano.tensor.signal.pool module.\")\n"
     ]
    }
   ],
   "source": [
    "from importlib import reload\n",
    "import LambdaRankHW\n",
    "import numpy as np\n",
    "import query\n",
    "import os\n",
    "import matplotlib.pyplot as plt\n",
    "import pandas as pd"
   ]
  },
  {
   "cell_type": "code",
   "execution_count": null,
   "metadata": {
    "collapsed": false
   },
   "outputs": [],
   "source": [
    "train_queries = query.load_queries(os.path.normpath('./HP2003/Fold1/train.txt'), 64)\n",
    "test_queries = query.load_queries(os.path.normpath('./HP2003/Fold1/test.txt'), 64)\n",
    "val_queries = query.load_queries(os.path.normpath('./HP2003/Fold1/vali.txt'), 64)"
   ]
  },
  {
   "cell_type": "code",
   "execution_count": 34,
   "metadata": {
    "collapsed": false
   },
   "outputs": [
    {
     "name": "stdout",
     "output_type": "stream",
     "text": [
      "Loading train queries\n",
      "Loading val queries\n",
      "Creating the S Matrix\n",
      "input_dim 64 output_dim 1\n",
      "finished create_iter_functions\n",
      "Epoch 1 of 20 took 3.210s\n",
      "training loss:\t\t-37.577946\n",
      "training mNDCG:\t\t0.791596\n",
      "validation mNDCG:\t\t0.673161\n",
      "\n",
      "Epoch 10 of 20 took 28.704s\n",
      "training loss:\t\t-0.896609\n",
      "training mNDCG:\t\t0.833720\n",
      "validation mNDCG:\t\t0.719352\n",
      "\n",
      "Epoch 20 of 20 took 31.969s\n",
      "training loss:\t\t-0.385707\n",
      "training mNDCG:\t\t0.856835\n",
      "validation mNDCG:\t\t0.757054\n",
      "\n",
      " "
     ]
    }
   ],
   "source": [
    "%%prun\n",
    "reload(LambdaRankHW)\n",
    "n_epochs = 20\n",
    "measure_type = LambdaRankHW.LISTWISE\n",
    "num_features = 64\n",
    "num_folds = 1\n",
    "\n",
    "res = LambdaRankHW.experiment(n_epochs, measure_type, num_features, num_folds)\n"
   ]
  },
  {
   "cell_type": "code",
   "execution_count": null,
   "metadata": {
    "collapsed": false
   },
   "outputs": [],
   "source": [
    "valndcgs = [[rr['val_mndcg'] for rr in res[i][:-1]] for i in res]  \n",
    "trainndcgs = [[rr['train_mndcg'] for rr in res[i][:-1]] for i in res]  \n",
    "\n",
    "df = pd.DataFrame(valndcgs, index=['Val Fold%d' % d for d in range(1, num_folds + 1)]).T\n",
    "plt.plot(df)\n",
    "df2 = pd.DataFrame(trainndcgs, index=['Train Fold%d' % d for d in range(1, num_folds + 1)]).T\n",
    "plt.plot(df2)\n",
    "plt.legend(df2.columns + df.columns)\n",
    "plt.show()"
   ]
  },
  {
   "cell_type": "code",
   "execution_count": 5,
   "metadata": {
    "collapsed": false
   },
   "outputs": [],
   "source": [
    "# Calculates the best NDCG@k for query with r relevant documents and binary relevance labels\n",
    "def best_ndcg(r, k):\n",
    "    if r == 0:\n",
    "        raise ZeroDivisionError(\"No relevant documents for given query. NDCG can not be computed.\")\n",
    "    sum_limit = min(r, k)\n",
    "    b_rank = 1 / np.log(1 + np.array(range(1, sum_limit + 1)))\n",
    "    return b_rank, np.cumsum(b_rank, axis=0)\n",
    "\n",
    "# Store the logarithmic discount and normalization factor lists for faster NDCG computation\n",
    "disc_list, norm_list = best_ndcg(1000,1000)\n",
    "disc_list = disc_list#.reshape((-1,1))\n",
    "\n",
    "# Calculates the NDCG@k for a rank with binary relevance labels assuming a query with r relevant documents\n",
    "def ndcg(rank, k, r = 1):\n",
    "    if r == 0:\n",
    "        #raise ZeroDivisionError(\"No relevant documents for given query. NDCG can not be computed.\")\n",
    "        return 0\n",
    "    return np.transpose(rank[:k]).dot(disc_list[:k]) / norm_list[r-1]\n"
   ]
  },
  {
   "cell_type": "code",
   "execution_count": 10,
   "metadata": {
    "collapsed": false
   },
   "outputs": [
    {
     "name": "stdout",
     "output_type": "stream",
     "text": [
      "[ 1.44269504  2.35293427  3.07428179  3.69561672  4.25372735  4.76762569\n",
      "  5.24852404  5.70364365  6.13793813  6.55497053]\n",
      "[ 1.44269504  2.35293427  3.07428179  3.69561672  4.25372735  4.76762569\n",
      "  5.24852404  5.70364365  6.13793813  6.55497053]\n"
     ]
    }
   ],
   "source": [
    "print(np.cumsum(disc_list)[:10])\n",
    "print(norm_list[:10])"
   ]
  },
  {
   "cell_type": "code",
   "execution_count": 3,
   "metadata": {
    "collapsed": false
   },
   "outputs": [],
   "source": [
    "def delta_ndcdg(i, j, id_i, id_j, labels):\n",
    "    return (2**labels[id_i] - 2**labels[id_j]) * (disc_list[j] - disc_list[i]) / norm_list[int(np.sum(labels))-1]"
   ]
  },
  {
   "cell_type": "code",
   "execution_count": 7,
   "metadata": {
    "collapsed": false,
    "scrolled": false
   },
   "outputs": [
    {
     "name": "stdout",
     "output_type": "stream",
     "text": [
      "The slowest run took 6.52 times longer than the fastest. This could mean that an intermediate result is being cached.\n",
      "10000 loops, best of 3: 56.6 µs per loop\n"
     ]
    },
    {
     "name": "stderr",
     "output_type": "stream",
     "text": [
      "C:\\Users\\Dana\\Anaconda3\\lib\\site-packages\\ipykernel\\__main__.py:18: VisibleDeprecationWarning: using a non-integer number instead of an integer will result in an error in the future\n"
     ]
    },
    {
     "ename": "NameError",
     "evalue": "name 'delta_val' is not defined",
     "output_type": "error",
     "traceback": [
      "\u001b[0;31m---------------------------------------------------------------------------\u001b[0m",
      "\u001b[0;31mNameError\u001b[0m                                 Traceback (most recent call last)",
      "\u001b[0;32m<ipython-input-7-e78535c0007d>\u001b[0m in \u001b[0;36m<module>\u001b[0;34m()\u001b[0m\n\u001b[1;32m     21\u001b[0m \u001b[0mdiff\u001b[0m \u001b[1;33m=\u001b[0m \u001b[0mnp\u001b[0m\u001b[1;33m.\u001b[0m\u001b[0mabs\u001b[0m\u001b[1;33m(\u001b[0m\u001b[0mndcg\u001b[0m\u001b[1;33m(\u001b[0m\u001b[0mr2\u001b[0m\u001b[1;33m,\u001b[0m \u001b[0mlen\u001b[0m\u001b[1;33m(\u001b[0m\u001b[0mlabels\u001b[0m\u001b[1;33m)\u001b[0m\u001b[1;33m,\u001b[0m \u001b[0msum\u001b[0m\u001b[1;33m(\u001b[0m\u001b[0mlabels\u001b[0m\u001b[1;33m)\u001b[0m\u001b[1;33m)\u001b[0m \u001b[1;33m-\u001b[0m \u001b[0mndcg\u001b[0m\u001b[1;33m(\u001b[0m\u001b[0mr1\u001b[0m\u001b[1;33m,\u001b[0m\u001b[0mlen\u001b[0m\u001b[1;33m(\u001b[0m\u001b[0mlabels\u001b[0m\u001b[1;33m)\u001b[0m\u001b[1;33m,\u001b[0m\u001b[0msum\u001b[0m\u001b[1;33m(\u001b[0m\u001b[0mlabels\u001b[0m\u001b[1;33m)\u001b[0m\u001b[1;33m)\u001b[0m\u001b[1;33m)\u001b[0m\u001b[1;33m\u001b[0m\u001b[0m\n\u001b[1;32m     22\u001b[0m \u001b[1;31m# if (diff != delta_val):\u001b[0m\u001b[1;33m\u001b[0m\u001b[1;33m\u001b[0m\u001b[0m\n\u001b[0;32m---> 23\u001b[0;31m \u001b[0mprint\u001b[0m\u001b[1;33m(\u001b[0m\u001b[0mdelta_val\u001b[0m\u001b[1;33m,\u001b[0m \u001b[0mdiff\u001b[0m\u001b[1;33m)\u001b[0m\u001b[1;33m\u001b[0m\u001b[0m\n\u001b[0m",
      "\u001b[0;31mNameError\u001b[0m: name 'delta_val' is not defined"
     ]
    }
   ],
   "source": [
    "doc_ids = np.array(range(1,1001))\n",
    "labels =np.ones(1000)\n",
    "scores =np.random.random(1000)\n",
    "w = 1\n",
    "l = 2\n",
    "\n",
    "def meh():\n",
    "    order = np.argsort(-scores)\n",
    "    ordered_ids = doc_ids[order]\n",
    "    # print(order)\n",
    "    # print(ordered_ids)\n",
    "    delta_val = np.abs(delta_ndcdg(np.where(ordered_ids == w)[0], np.where(ordered_ids == l)[0], w, l, labels))\n",
    "\n",
    "%timeit meh ()   \n",
    "\n",
    "r1 = np.array(labels)[order]\n",
    "r2 = np.array(labels)[order]\n",
    "aux = r2[np.where(ordered_ids == w)[0]]\n",
    "r2[np.where(ordered_ids == w)[0]] = r2[np.where(ordered_ids == l)[0]]\n",
    "r2[np.where(ordered_ids == l)[0]] = aux\n",
    "diff = np.abs(ndcg(r2, len(labels), sum(labels)) - ndcg(r1,len(labels),sum(labels)))\n",
    "# if (diff != delta_val):\n",
    "print(delta_val, diff)"
   ]
  }
 ],
 "metadata": {
  "anaconda-cloud": {},
  "kernelspec": {
   "display_name": "Python [conda root]",
   "language": "python",
   "name": "conda-root-py"
  },
  "language_info": {
   "codemirror_mode": {
    "name": "ipython",
    "version": 3
   },
   "file_extension": ".py",
   "mimetype": "text/x-python",
   "name": "python",
   "nbconvert_exporter": "python",
   "pygments_lexer": "ipython3",
   "version": "3.5.2"
  }
 },
 "nbformat": 4,
 "nbformat_minor": 0
}
