{
 "cells": [
  {
   "cell_type": "code",
   "execution_count": 1,
   "metadata": {
    "collapsed": true
   },
   "outputs": [
    {
     "name": "stderr",
     "output_type": "stream",
     "text": [
      "WARNING (theano.configdefaults): g++ not detected ! Theano will be unable to execute optimized C-implementations (for both CPU and GPU) and will default to Python implementations. Performance will be severely degraded. To remove this warning, set Theano flags cxx to an empty string.\n",
      "ERROR (theano.sandbox.cuda): nvcc compiler not found on $PATH. Check your nvcc installation and try again.\n"
     ]
    }
   ],
   "source": [
    "import LambdaRankHW"
   ]
  },
  {
   "cell_type": "code",
   "execution_count": 3,
   "metadata": {
    "collapsed": true
   },
   "outputs": [],
   "source": [
    "import numpy as np\n",
    "def dcg(ranking_labels, k):\n",
    "    gains = [(2 ** label - 1) / (np.log2(1 + (i + 1))) for i, label in enumerate(ranking_labels[:k])]  # Discounted gain at each rank\n",
    "    return sum(gains)  # cumulated gains\n",
    "\n",
    "def ndcg(ranking, k, best_ranking):\n",
    "  return dcg(ranking, k)/dcg(best_ranking, k)"
   ]
  },
  {
   "cell_type": "code",
   "execution_count": 10,
   "metadata": {
    "collapsed": true
   },
   "outputs": [],
   "source": [
    "def dcg3(ranked_labels, k):\n",
    "    gains = [(2**ranked_labels[i] -1 ) / (np.log2(2 + i)) for i in range(k)]\n",
    "    return sum(gains)"
   ]
  },
  {
   "cell_type": "code",
   "execution_count": 4,
   "metadata": {
    "collapsed": true
   },
   "outputs": [],
   "source": [
    "def dcg2(g, rank=10):\n",
    "    \"\"\"\n",
    "    Discounted Cumulative Gain implementation\n",
    "    g - a list of ranking of relevance\n",
    "    References:\n",
    "        * Chapelle et al. Expected Reciprocal Rank for Graded Relevance. Formula (1).\n",
    "    \"\"\"\n",
    "    # log(i + 2) instead of log(i + 1) because of our indexation that starts from 0\n",
    "    return sum([(2 ** g[i] - 1) / np.log2(i + 2) for i in range(rank)])"
   ]
  },
  {
   "cell_type": "code",
   "execution_count": 6,
   "metadata": {
    "collapsed": false
   },
   "outputs": [
    {
     "name": "stdout",
     "output_type": "stream",
     "text": [
      "100000 loops, best of 3: 18.5 µs per loop\n",
      "140.850339481\n"
     ]
    }
   ],
   "source": [
    "%timeit dcg([5,5,5,5,5,5,5,5,5,5],k=10)"
   ]
  },
  {
   "cell_type": "code",
   "execution_count": 7,
   "metadata": {
    "collapsed": false
   },
   "outputs": [
    {
     "name": "stdout",
     "output_type": "stream",
     "text": [
      "The slowest run took 4.40 times longer than the fastest. This could mean that an intermediate result is being cached.\n",
      "100000 loops, best of 3: 17.6 µs per loop\n"
     ]
    }
   ],
   "source": [
    "%timeit dcg2([5,5,5,5,5,5,5,5,5,5],rank=10)"
   ]
  },
  {
   "cell_type": "code",
   "execution_count": 11,
   "metadata": {
    "collapsed": false
   },
   "outputs": [
    {
     "name": "stdout",
     "output_type": "stream",
     "text": [
      "100000 loops, best of 3: 17.4 µs per loop\n"
     ]
    }
   ],
   "source": [
    "%timeit dcg3([5,5,5,5,5,5,5,5,5,5],k=10)"
   ]
  }
 ],
 "metadata": {
  "anaconda-cloud": {},
  "kernelspec": {
   "display_name": "Python [conda root]",
   "language": "python",
   "name": "conda-root-py"
  },
  "language_info": {
   "codemirror_mode": {
    "name": "ipython",
    "version": 3
   },
   "file_extension": ".py",
   "mimetype": "text/x-python",
   "name": "python",
   "nbconvert_exporter": "python",
   "pygments_lexer": "ipython3",
   "version": "3.5.2"
  }
 },
 "nbformat": 4,
 "nbformat_minor": 0
}
