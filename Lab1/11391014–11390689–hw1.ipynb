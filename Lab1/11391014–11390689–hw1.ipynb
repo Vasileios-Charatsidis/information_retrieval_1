{
 "cells": [
  {
   "cell_type": "code",
   "execution_count": 3,
   "metadata": {
    "collapsed": false
   },
   "outputs": [
    {
     "name": "stdout",
     "output_type": "stream",
     "text": [
      "Populating the interactive namespace from numpy and matplotlib\n"
     ]
    }
   ],
   "source": [
    "%pylab inline\n",
    "import pandas as pd\n",
    "import itertools "
   ]
  },
  {
   "cell_type": "code",
   "execution_count": 48,
   "metadata": {
    "collapsed": true
   },
   "outputs": [],
   "source": [
    "# Initialize variables\n",
    "grading_scheme = ['N','R','HR']"
   ]
  },
  {
   "cell_type": "code",
   "execution_count": 59,
   "metadata": {
    "collapsed": false
   },
   "outputs": [
    {
     "name": "stdout",
     "output_type": "stream",
     "text": [
      "Number of rankings: 59049\n"
     ]
    }
   ],
   "source": [
    "## Generate pairs of rankings for P and E\n",
    "# Takes a Cartesian product of the grading scheme onto itself to generate each possible ranking (length 10)\n",
    "# Each ranking is the pair of rankings for P and E\n",
    "perms = [i for i in itertools.product(grading_scheme, repeat=10)]\n",
    "\n",
    "# There are 3^10 = 59049 rankings\n",
    "print 'Number of rankings:', len(perms)\n",
    "\n",
    "## Split each ranking (a list) into a tuple for the ranking for P and E\n",
    "# Convention: tuple[0] is the ranking for P, and tuple[1] is for E\n",
    "ranking_pairs = [(i[:5],i[5:]) for i in perms] \n",
    "\n",
    "# counter = 0\n",
    "# for i in perms:\n",
    "#     for x in i:\n",
    "#         if 'R' in x:\n",
    "#             counter +=1\n",
    "# print counter/2"
   ]
  },
  {
   "cell_type": "code",
   "execution_count": null,
   "metadata": {
    "collapsed": true
   },
   "outputs": [],
   "source": [
    "def average_precision(rankings):\n",
    "    "
   ]
  }
 ],
 "metadata": {
  "kernelspec": {
   "display_name": "Python 2",
   "language": "python",
   "name": "python2"
  },
  "language_info": {
   "codemirror_mode": {
    "name": "ipython",
    "version": 2
   },
   "file_extension": ".py",
   "mimetype": "text/x-python",
   "name": "python",
   "nbconvert_exporter": "python",
   "pygments_lexer": "ipython2",
   "version": "2.7.12"
  }
 },
 "nbformat": 4,
 "nbformat_minor": 1
}
