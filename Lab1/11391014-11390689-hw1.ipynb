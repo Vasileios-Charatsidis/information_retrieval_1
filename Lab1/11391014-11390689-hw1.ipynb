{
  "worksheets": [
    {
      "cells": [
        {
          "cell_type": "code",
          "input": "%pylab inline\nimport numpy as np\nimport pandas as pd\nimport itertools ",
          "outputs": [
            {
              "output_type": "stream",
              "text": "Populating the interactive namespace from numpy and matplotlib\n",
              "stream": "stdout"
            }
          ],
          "language": "python",
          "metadata": {
            "cellView": null,
            "executionInfo": {
              "content": {
                "status": "ok",
                "execution_count": 3,
                "payload": [],
                "user_expressions": {},
                "user_variables": {}
              },
              "timestamp": 1484306421191,
              "user_tz": -60,
              "user": {
                "sessionId": "68cc208fcc894631",
                "userId": "112529955284751587675",
                "permissionId": "04679598140879219033",
                "displayName": "Dana Kianfar",
                "color": "#1FA15D",
                "isMe": true,
                "isAnonymous": false,
                "photoUrl": "//lh4.googleusercontent.com/-wuXN9UJDeVQ/AAAAAAAAAAI/AAAAAAAAL38/QdqQHlnDG58/s50-c-k-no/photo.jpg"
              }
            }
          }
        },
        {
          "level": 3,
          "cell_type": "heading",
          "source": "Step 1: Simulate Rankings of Relevance for E and P"
        },
        {
          "cell_type": "code",
          "input": "# Initialize variables\n_N = 'N'\n_R = 'R'\n_HR = 'HR'\nnon_relevant_labels = [_N]\nrelevant_labels = [_R, _HR]\ngrading_scheme = non_relevant_labels + relevant_labels\n\n# Number of relevant (R) and highly relevant (HR) documents\n# We generate each possible ranking for a hypothetical query q, but we do not know what is the total number of relevant (R, HR) documents. \n# For the purpose of this experiment, it suffices to choose any number greater than 5, in order to allow for the possibility that there are relevant documents outside the 5 retrieved results. \nnum_r = 10\nnum_hr = 10\nnum_total_relevant = num_r + num_hr",
          "outputs": [],
          "language": "python",
          "metadata": {
            "cellView": null,
            "executionInfo": {
              "content": {
                "status": "ok",
                "execution_count": 6,
                "payload": [],
                "user_expressions": {},
                "user_variables": {}
              },
              "timestamp": 1484306495416,
              "user_tz": -60,
              "user": {
                "sessionId": "68cc208fcc894631",
                "userId": "112529955284751587675",
                "permissionId": "04679598140879219033",
                "displayName": "Dana Kianfar",
                "color": "#1FA15D",
                "isMe": true,
                "isAnonymous": false,
                "photoUrl": "//lh4.googleusercontent.com/-wuXN9UJDeVQ/AAAAAAAAAAI/AAAAAAAAL38/QdqQHlnDG58/s50-c-k-no/photo.jpg"
              }
            }
          }
        },
        {
          "cell_type": "code",
          "input": "## Generate pairs of rankings for P and E\n# Takes a Cartesian product of the grading scheme onto itself to generate each possible ranking (length n_retr_docs)\n# Each ranking is the pair of rankings for P and E\nnum_retr_docs = 5\nE = [i for i in itertools.product(grading_scheme, repeat = num_retr_docs)]\nP = E[:] # copy list for P\n\n## Generate pairs of ranking\n# Convention: tuple[0] is the ranking for E, and tuple[1] is for P\nranking_pairs = [(e,p) for e in E for p in P]\n\n# There are 3 ^ 10 ranking pairs\nprint 'Number of ranking pairs: ', len(ranking_pairs)\nprint ranking_pairs[np.random.randint(len(ranking_pairs))]",
          "outputs": [
            {
              "output_type": "stream",
              "text": "Number of ranking pairs:  59049\n(('HR', 'N', 'R', 'N', 'N'), ('HR', 'N', 'HR', 'HR', 'HR'))\n",
              "stream": "stdout"
            }
          ],
          "language": "python",
          "metadata": {
            "cellView": null,
            "executionInfo": {
              "content": {
                "status": "ok",
                "execution_count": 7,
                "payload": [],
                "user_expressions": {},
                "user_variables": {}
              },
              "timestamp": 1484306497393,
              "user_tz": -60,
              "user": {
                "sessionId": "68cc208fcc894631",
                "userId": "112529955284751587675",
                "permissionId": "04679598140879219033",
                "displayName": "Dana Kianfar",
                "color": "#1FA15D",
                "isMe": true,
                "isAnonymous": false,
                "photoUrl": "//lh4.googleusercontent.com/-wuXN9UJDeVQ/AAAAAAAAAAI/AAAAAAAAL38/QdqQHlnDG58/s50-c-k-no/photo.jpg"
              }
            }
          }
        },
        {
          "level": 3,
          "cell_type": "heading",
          "source": "Step 2: Implement Evaluation Measures"
        },
        {
          "cell_type": "code",
          "input": "## Precision calculation\n# Receives a ranking rank and returns its precision (up to position k)\n\ndef precision(rank, k = None):\n  \n  # If not precision@k then calculate precision for the full \n  if k is None:\n    k = len(rank)-1\n  \n  true_positives = [x for x in rank[:k+1] if x in relevant_labels]\n  return 1.0*len(true_positives)/(k+1)\n\n# Usage\n#precision(['N', 'N', 'HR', 'HR', 'N'],3)",
          "outputs": [],
          "language": "python",
          "metadata": {
            "cellView": null,
            "executionInfo": {
              "content": {
                "status": "ok",
                "execution_count": 8,
                "payload": [],
                "user_expressions": {},
                "user_variables": {}
              },
              "timestamp": 1484306498955,
              "user_tz": -60,
              "user": {
                "sessionId": "68cc208fcc894631",
                "userId": "112529955284751587675",
                "permissionId": "04679598140879219033",
                "displayName": "Dana Kianfar",
                "color": "#1FA15D",
                "isMe": true,
                "isAnonymous": false,
                "photoUrl": "//lh4.googleusercontent.com/-wuXN9UJDeVQ/AAAAAAAAAAI/AAAAAAAAL38/QdqQHlnDG58/s50-c-k-no/photo.jpg"
              }
            }
          }
        },
        {
          "cell_type": "code",
          "input": "## Average Precision (AP)\n# Receives a ranking rank and calculates the average of precisions at relevant documents\n\ndef average_precision(rank, num_total_relevant):\n  rel_idx = [i for i in range(len(rank)) if rank[i] in relevant_labels]\n  \n  acum = 0.0\n  \n  for k in rel_idx:\n    acum += precision(rank, k)\n\n  return 1.0* acum / num_total_relevant\n\n# Usage\n#average_precision(['N', 'N', 'HR', 'HR', 'N'], num_total_relevant)",
          "outputs": [],
          "language": "python",
          "metadata": {
            "cellView": null,
            "executionInfo": {
              "content": {
                "status": "ok",
                "execution_count": 9,
                "payload": [],
                "user_expressions": {},
                "user_variables": {}
              },
              "timestamp": 1484306499915,
              "user_tz": -60,
              "user": {
                "sessionId": "68cc208fcc894631",
                "userId": "112529955284751587675",
                "permissionId": "04679598140879219033",
                "displayName": "Dana Kianfar",
                "color": "#1FA15D",
                "isMe": true,
                "isAnonymous": false,
                "photoUrl": "//lh4.googleusercontent.com/-wuXN9UJDeVQ/AAAAAAAAAAI/AAAAAAAAL38/QdqQHlnDG58/s50-c-k-no/photo.jpg"
              }
            }
          }
        },
        {
          "cell_type": "code",
          "input": "# Relevance measures for different grades\nrel_N = 0\nrel_R = 1\nrel_HR = 5\n\nrelevance = {'N':rel_N, 'R':rel_R, 'HR':rel_HR}\n\n# Best possible ranking\nbest_ranking = ['HR','HR','HR','HR','HR']",
          "outputs": [],
          "language": "python",
          "metadata": {
            "cellView": null,
            "executionInfo": {
              "content": {
                "status": "ok",
                "execution_count": 10,
                "payload": [],
                "user_expressions": {},
                "user_variables": {}
              },
              "timestamp": 1484306501526,
              "user_tz": -60,
              "user": {
                "sessionId": "68cc208fcc894631",
                "userId": "112529955284751587675",
                "permissionId": "04679598140879219033",
                "displayName": "Dana Kianfar",
                "color": "#1FA15D",
                "isMe": true,
                "isAnonymous": false,
                "photoUrl": "//lh4.googleusercontent.com/-wuXN9UJDeVQ/AAAAAAAAAAI/AAAAAAAAL38/QdqQHlnDG58/s50-c-k-no/photo.jpg"
              }
            }
          }
        },
        {
          "cell_type": "code",
          "input": "## Discounted Cumulative Gain at k-th rank\n# Performs DCG@K evaluation. \n# ranking: a list of grades for a given query\n# k: the cut-off parameter\ndef dcg(ranking, k):\n  gains = [(2**relevance[rank]-1)/(np.log2(1+(i+1))) for i, rank in enumerate(ranking[:k])] # Discounted gain at each rank\n  return sum(gains) # cumulated gains\n  \n# Usage\nprint dcg(best_ranking, 5)",
          "outputs": [
            {
              "output_type": "stream",
              "text": "91.4022326853\n",
              "stream": "stdout"
            }
          ],
          "language": "python",
          "metadata": {
            "cellView": null,
            "executionInfo": {
              "content": {
                "status": "ok",
                "execution_count": 11,
                "payload": [],
                "user_expressions": {},
                "user_variables": {}
              },
              "timestamp": 1484306503323,
              "user_tz": -60,
              "user": {
                "sessionId": "68cc208fcc894631",
                "userId": "112529955284751587675",
                "permissionId": "04679598140879219033",
                "displayName": "Dana Kianfar",
                "color": "#1FA15D",
                "isMe": true,
                "isAnonymous": false,
                "photoUrl": "//lh4.googleusercontent.com/-wuXN9UJDeVQ/AAAAAAAAAAI/AAAAAAAAL38/QdqQHlnDG58/s50-c-k-no/photo.jpg"
              }
            }
          }
        },
        {
          "cell_type": "code",
          "input": "# Normalized Discounted Cumulative Gain at k-th rank\n# Performs DCG@k and normalizes using the best possible ranking. Results in a metric within [0,1]\ndef ndcg(ranking, k, best_ranking):\n  return dcg(ranking, k)/dcg(best_ranking, k)\n\n# Usage\nprint ndcg(best_ranking, 5, best_ranking)",
          "outputs": [
            {
              "output_type": "stream",
              "text": "1.0\n",
              "stream": "stdout"
            }
          ],
          "language": "python",
          "metadata": {
            "cellView": null,
            "executionInfo": {
              "content": {
                "status": "ok",
                "execution_count": 12,
                "payload": [],
                "user_expressions": {},
                "user_variables": {}
              },
              "timestamp": 1484306505300,
              "user_tz": -60,
              "user": {
                "sessionId": "68cc208fcc894631",
                "userId": "112529955284751587675",
                "permissionId": "04679598140879219033",
                "displayName": "Dana Kianfar",
                "color": "#1FA15D",
                "isMe": true,
                "isAnonymous": false,
                "photoUrl": "//lh4.googleusercontent.com/-wuXN9UJDeVQ/AAAAAAAAAAI/AAAAAAAAL38/QdqQHlnDG58/s50-c-k-no/photo.jpg"
              }
            }
          }
        },
        {
          "cell_type": "code",
          "input": "## Rank Biased Precision\n# Receives ranking rank and persistence theta and returns the expected utility at stopping\ndef rbp(rank, theta = 0.8):\n  acum = 0\n  \n  for k in range(len(rank)):\n    acum += relevance[rank[k]] * (1 - theta) * (theta ** k)\n    \n  return acum\n\n# Usage\n#rbp(['HR', 'N', 'N', 'HR', 'R'])",
          "outputs": [],
          "language": "python",
          "metadata": {
            "cellView": null,
            "executionInfo": {
              "content": {
                "status": "ok",
                "execution_count": 13,
                "payload": [],
                "user_expressions": {},
                "user_variables": {}
              },
              "timestamp": 1484306506297,
              "user_tz": -60,
              "user": {
                "sessionId": "68cc208fcc894631",
                "userId": "112529955284751587675",
                "permissionId": "04679598140879219033",
                "displayName": "Dana Kianfar",
                "color": "#1FA15D",
                "isMe": true,
                "isAnonymous": false,
                "photoUrl": "//lh4.googleusercontent.com/-wuXN9UJDeVQ/AAAAAAAAAAI/AAAAAAAAL38/QdqQHlnDG58/s50-c-k-no/photo.jpg"
              }
            }
          }
        },
        {
          "level": 3,
          "cell_type": "heading",
          "source": "Step 3: Calculate the $\\Delta$ Measure"
        },
        {
          "cell_type": "code",
          "input": "## Delta measure\n# Receives lists of rankings E and P and several measures (with possible parameters in args) and return the delta measure for each possible pair of E and P and each measure\ndef delta_measure(E, P, measures, args):\n\n  # Create cartesian product between indices of E and P rankings\n  pair_idx_list = [pair for pair in itertools.product(range(len(E)),range(len(P)))]\n   \n  # Creates empty matrices for storing the value of each E and P ranking under several measures (columns)\n  E_measures = np.zeros((len(E), len(measures)))\n  P_measures = np.zeros((len(P), len(measures)))\n  \n  # Stores the delta measure (columns) for each possible pair (rows)\n  Delta = np.zeros((len(pair_idx_list), len(measures)))\n  \n  # Loops over the selected measures\n  for m in range(len(measures)):\n    \n    # Calculates and stores measure m for each ranking in E\n    for rank in range(len(E)):\n      E_measures[rank, m] = measures[m](E[rank], *args[m])\n    \n    # Calculates and stores measure m for each ranking in P\n    for rank in range(len(P)):\n      P_measures[rank, m] = measures[m](P[rank], *args[m])\n    \n    # Calculates the delta for measure m for each pair in the cartesian product of E and P\n    for pair_num in range(len(pair_idx_list)):\n      Delta[pair_num, m] = E_measures[ pair_idx_list[pair_num][0] , m] - P_measures[ pair_idx_list[pair_num][1] , m]\n  \n  return E_measures, P_measures, pair_idx_list, Delta\n",
          "outputs": [],
          "language": "python",
          "metadata": {
            "cellView": null,
            "executionInfo": {
              "content": {
                "status": "ok",
                "execution_count": 14,
                "payload": [],
                "user_expressions": {},
                "user_variables": {}
              },
              "timestamp": 1484306508146,
              "user_tz": -60,
              "user": {
                "sessionId": "68cc208fcc894631",
                "userId": "112529955284751587675",
                "permissionId": "04679598140879219033",
                "displayName": "Dana Kianfar",
                "color": "#1FA15D",
                "isMe": true,
                "isAnonymous": false,
                "photoUrl": "//lh4.googleusercontent.com/-wuXN9UJDeVQ/AAAAAAAAAAI/AAAAAAAAL38/QdqQHlnDG58/s50-c-k-no/photo.jpg"
              }
            }
          }
        },
        {
          "cell_type": "code",
          "input": "# Get delta measures for all 3 evaluation metrics\n# Em is the evaluation results on all rankings in E\n# Pm is the evaluation results for all rankings in P\n# pair_idx is every ranking pair between E and P. We only keep the indices of the rankings that refer to rows in E and P respectively.\n# Delta is the difference between the all evaluation measures between E and P. It is a 3^10 x 3 matrix, where the columns are ordered as follows: Average Precision, RBP, NDCG\nEm, Pm, pair_idx, Delta = delta_measure(E,P, [average_precision, rbp, ndcg], [[num_total_relevant], [0.8], [5, best_ranking]])\n\n\n# Example\n#idx = 6001\n#print ranking_pairs[idx]\n#print Em[pair_idx[idx][0]]\n#print Pm[pair_idx[idx][1]]\n#print Delta[idx]",
          "outputs": [],
          "language": "python",
          "metadata": {
            "cellView": null,
            "executionInfo": {
              "content": {
                "status": "ok",
                "execution_count": 15,
                "payload": [],
                "user_expressions": {},
                "user_variables": {}
              },
              "timestamp": 1484306509366,
              "user_tz": -60,
              "user": {
                "sessionId": "68cc208fcc894631",
                "userId": "112529955284751587675",
                "permissionId": "04679598140879219033",
                "displayName": "Dana Kianfar",
                "color": "#1FA15D",
                "isMe": true,
                "isAnonymous": false,
                "photoUrl": "//lh4.googleusercontent.com/-wuXN9UJDeVQ/AAAAAAAAAAI/AAAAAAAAL38/QdqQHlnDG58/s50-c-k-no/photo.jpg"
              }
            }
          }
        },
        {
          "level": 3,
          "cell_type": "heading",
          "source": "Step 4: Implement Interleaving"
        },
        {
          "cell_type": "code",
          "input": "class rank_item(object):\n  \n  def __init__(self, pos, grade, source):\n    self.pos  = pos\n    self.grade = grade\n    self.source = source\n    \n    \n  def __str__(self):\n    return '%s%d:%s' % (self.source, self.rank, self.grade)\n  \n  def __repr__(self):\n    return self.__str__()",
          "outputs": [],
          "language": "python",
          "metadata": {
            "cellView": null,
            "executionInfo": {
              "content": {
                "status": "ok",
                "execution_count": 24,
                "payload": [],
                "user_expressions": {},
                "user_variables": {}
              },
              "timestamp": 1484306654018,
              "user_tz": -60,
              "user": {
                "sessionId": "68cc208fcc894631",
                "userId": "112529955284751587675",
                "permissionId": "04679598140879219033",
                "displayName": "Dana Kianfar",
                "color": "#1FA15D",
                "isMe": true,
                "isAnonymous": false,
                "photoUrl": "//lh4.googleusercontent.com/-wuXN9UJDeVQ/AAAAAAAAAAI/AAAAAAAAL38/QdqQHlnDG58/s50-c-k-no/photo.jpg"
              }
            }
          }
        },
        {
          "cell_type": "code",
          "input": "## Team-Draft Interleaving\n# Receives two rankings serp_E and serp_P and creates an interleaving of the two rankings of size max_interleave\ndef team_draft_interleave(serp_E, serp_P, max_interleave_size=10):\n    interleaved = []\n    \n    for i in range( (max_interleave_size+1)/2):\n      \n      # With a fair coin, allow E to contribute first if heads\n      if np.random.uniform() >= 0.5:\n        interleaved += [serp_E[i], serp_P[i]]\n        \n      else: # if tails, P contributes first\n        interleaved += [serp_P[i], serp_E[i]]\n    \n    # Prunes the interleaving in case odd size required \n    return interleaved[:max_interleave_size]\n  \n# Usage\ne_example = [rank_item(i, grade, 'E') for i,grade in enumerate(['N', 'N', 'HR', 'HR', 'N'])]\np_example = [rank_item(i, grade, 'P') for i,grade in enumerate(['HR', 'N', 'N', 'HR', 'R'])]\n\nprint team_draft_interleave(e_example, p_example, 10)",
          "outputs": [
            {
              "output_type": "stream",
              "text": "[P0:HR, E0:N, P1:N, E1:N, E2:HR, P2:N, P3:HR, E3:HR, P4:R, E4:N]\n",
              "stream": "stdout"
            }
          ],
          "language": "python",
          "metadata": {
            "cellView": null,
            "executionInfo": {
              "content": {
                "status": "ok",
                "execution_count": 42,
                "payload": [],
                "user_expressions": {},
                "user_variables": {}
              },
              "timestamp": 1484313023503,
              "user_tz": -60,
              "user": {
                "sessionId": "68cc208fcc894631",
                "userId": "112529955284751587675",
                "permissionId": "04679598140879219033",
                "displayName": "Dana Kianfar",
                "color": "#1FA15D",
                "isMe": true,
                "isAnonymous": false,
                "photoUrl": "//lh4.googleusercontent.com/-wuXN9UJDeVQ/AAAAAAAAAAI/AAAAAAAAL38/QdqQHlnDG58/s50-c-k-no/photo.jpg"
              }
            }
          }
        },
        {
          "cell_type": "code",
          "input": "## Probabilistic Interleaving\n\ndef softmax(ranking_size, tau = 3):\n  ranks = np.array(range(1,ranking_size+1), dtype='float64') # generate enumeration of size ranking_size\n  p_rank = np.power(ranks, -tau) # power decay based on rank\n  return p_rank / p_rank.sum() # normalize each rank probability to sum to one (softmax step)\n\n\n# Samples an element from a list of length ranking_size under the discrete distribution induced by the softmax\ndef sample_from_list(ranking_size):\n  return next(x[0] for x in enumerate(np.cumsum(softmax(ranking_size))) if x[1] > np.random.uniform())",
          "outputs": [],
          "language": "python",
          "metadata": {
            "cellView": null,
            "executionInfo": {
              "content": {
                "status": "ok",
                "execution_count": 32,
                "payload": [],
                "user_expressions": {},
                "user_variables": {}
              },
              "timestamp": 1484312096451,
              "user_tz": -60,
              "user": {
                "sessionId": "68cc208fcc894631",
                "userId": "112529955284751587675",
                "permissionId": "04679598140879219033",
                "displayName": "Dana Kianfar",
                "color": "#1FA15D",
                "isMe": true,
                "isAnonymous": false,
                "photoUrl": "//lh4.googleusercontent.com/-wuXN9UJDeVQ/AAAAAAAAAAI/AAAAAAAAL38/QdqQHlnDG58/s50-c-k-no/photo.jpg"
              }
            }
          }
        },
        {
          "cell_type": "code",
          "input": "## Probabilistic interleaving\n# Performs a probabilistic interleaving using a rank-based softmax probability distribution over documents in E and P\n# Receives the SERP for E and P, a decay parameter tau and a maximum interleaved list size\n# Returns the interleaves list composed of rank_item objects\ndef probabilistic_interleave(serp_E, serp_P, tau=3, max_interleave_size=10):\n  interleaved = []\n  \n  # copy lists\n  l_e = serp_E[:]\n  l_p = serp_P[:]\n  \n  # For each item in the interleaved list\n  for i in range(max_interleave_size):\n    \n    if np.random.uniform() >= 0.5: # Sample from E\n      if len(l_e) > 0:\n        selected = l_e\n      else: # if l_e is empty\n        selected = l_p\n    else:\n      if len(l_p) > 0:\n        selected = l_p\n      else: # if l_p is empty\n        selected = l_e\n    \n    # Sample without replacement from softmax\n    idx = sample_from_list(len(selected))\n    interleaved.append(selected[idx])\n    selected.remove(selected[idx]) # without replacement\n    \n    print selected, 'Selected: ', interleaved[-1]\n    \n  return interleaved\n\n\n# Usage\ne_example = [rank_item(i, grade, 'E') for i,grade in enumerate(['N', 'N', 'HR', 'HR', 'N'])]\np_example = [rank_item(i, grade, 'P') for i,grade in enumerate(['HR', 'N', 'N', 'HR', 'R'])]\n\nprint probabilistic_interleave(e_example, p_example, 10)",
          "outputs": [
            {
              "output_type": "stream",
              "text": "[E1:N, E2:HR, E3:HR, E4:N] Selected:  E0:N\n[E1:N, E3:HR, E4:N] Selected:  E2:HR\n[E3:HR, E4:N] Selected:  E1:N\n[P1:N, P2:N, P3:HR, P4:R] Selected:  P0:HR\n[E4:N] Selected:  E3:HR\n[P2:N, P3:HR, P4:R] Selected:  P1:N\n[] Selected:  E4:N\n[P3:HR, P4:R] Selected:  P2:N\n[P4:R] Selected:  P3:HR\n[] Selected:  P4:R\n[E0:N, E2:HR, E1:N, P0:HR, E3:HR, P1:N, E4:N, P2:N, P3:HR, P4:R]\n",
              "stream": "stdout"
            }
          ],
          "language": "python",
          "metadata": {
            "cellView": null,
            "executionInfo": {
              "content": {
                "status": "ok",
                "execution_count": 43,
                "payload": [],
                "user_expressions": {},
                "user_variables": {}
              },
              "timestamp": 1484313528448,
              "user_tz": -60,
              "user": {
                "sessionId": "68cc208fcc894631",
                "userId": "112529955284751587675",
                "permissionId": "04679598140879219033",
                "displayName": "Dana Kianfar",
                "color": "#1FA15D",
                "isMe": true,
                "isAnonymous": false,
                "photoUrl": "//lh4.googleusercontent.com/-wuXN9UJDeVQ/AAAAAAAAAAI/AAAAAAAAL38/QdqQHlnDG58/s50-c-k-no/photo.jpg"
              }
            }
          }
        },
        {
          "cell_type": "code",
          "input": "## Credit Assignment Function\n# Recieves an interleaved ranking of results and the positions on which the clicks were performed and calculates the score for each contributing list E and P\ndef credit_assignment(interleaved, clicks):\n  \n  score_E = 0 \n  score_P = 0\n  \n  for pos in clicks:\n    if interleaved[pos].source == 'E':\n      score_E += 1\n    else:\n      score_P += 1\n  \n  return [score_E, score_P]",
          "outputs": [],
          "language": "python",
          "metadata": {
            "cellView": null,
            "executionInfo": null
          }
        },
        {
          "level": 3,
          "cell_type": "heading",
          "source": "Step 6: Implement User Click Simulations "
        },
        {
          "cell_type": "code",
          "input": "",
          "outputs": [],
          "language": "python",
          "metadata": {
            "cellView": null,
            "executionInfo": null
          }
        }
      ]
    }
  ],
  "metadata": {
    "name": "11391014-11390689-hw1.ipynb",
    "colabVersion": "0.1"
  },
  "nbformat": 3,
  "nbformat_minor": 0
}