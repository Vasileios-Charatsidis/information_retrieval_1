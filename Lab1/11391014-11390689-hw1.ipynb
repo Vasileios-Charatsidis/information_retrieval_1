{
  "worksheets": [
    {
      "cells": [
        {
          "cell_type": "code",
          "input": "%pylab inline\nimport numpy as np\nimport pandas as pd\nimport itertools ",
          "outputs": [
            {
              "output_type": "stream",
              "text": "Populating the interactive namespace from numpy and matplotlib\n",
              "stream": "stdout"
            },
            {
              "output_type": "stream",
              "text": "WARNING: pylab import has clobbered these variables: ['e']\n`%matplotlib` prevents importing * from pylab and numpy\n",
              "stream": "stderr"
            }
          ],
          "language": "python",
          "metadata": {
            "cellView": null,
            "executionInfo": {
              "content": {
                "status": "ok",
                "execution_count": 33,
                "payload": [],
                "user_expressions": {},
                "user_variables": {}
              },
              "timestamp": 1484237015641,
              "user_tz": -60,
              "user": {
                "sessionId": "782575c2fcf1575",
                "userId": "112529955284751587675",
                "permissionId": "04679598140879219033",
                "displayName": "Dana Kianfar",
                "color": "#1FA15D",
                "isMe": true,
                "isAnonymous": false,
                "photoUrl": "//lh4.googleusercontent.com/-wuXN9UJDeVQ/AAAAAAAAAAI/AAAAAAAAL38/QdqQHlnDG58/s50-c-k-no/photo.jpg"
              }
            }
          }
        },
        {
          "level": 3,
          "cell_type": "heading",
          "source": "Step 1: Simulate Rankings of Relevance for E and P"
        },
        {
          "cell_type": "code",
          "input": "# Initialize variables\nnon_relevant_labels = ['N']\nrelevant_labels = ['R', 'HR']\ngrading_scheme = non_relevant_labels + relevant_labels\n\n# Number of relevant (R) and highly relevant (HR) documents\n# We generate each possible ranking for a hypothetical query q, but we do not know what is the total number of relevant (R, HR) documents. \n# For the purpose of this experiment, it suffices to choose any number greater than 5, in order to allow for the possibility that there are relevant documents outside the 5 retrieved results. \nnum_r = 10\nnum_hr = 10\nnum_total_relevant = num_r + num_hr",
          "outputs": [],
          "language": "python",
          "metadata": {
            "cellView": null,
            "executionInfo": {
              "content": {
                "status": "ok",
                "execution_count": 34,
                "payload": [],
                "user_expressions": {},
                "user_variables": {}
              },
              "timestamp": 1484237018807,
              "user_tz": -60,
              "user": {
                "sessionId": "782575c2fcf1575",
                "userId": "112529955284751587675",
                "permissionId": "04679598140879219033",
                "displayName": "Dana Kianfar",
                "color": "#1FA15D",
                "isMe": true,
                "isAnonymous": false,
                "photoUrl": "//lh4.googleusercontent.com/-wuXN9UJDeVQ/AAAAAAAAAAI/AAAAAAAAL38/QdqQHlnDG58/s50-c-k-no/photo.jpg"
              }
            }
          }
        },
        {
          "cell_type": "code",
          "input": "## Generate pairs of rankings for P and E\n# Takes a Cartesian product of the grading scheme onto itself to generate each possible ranking (length n_retr_docs)\n# Each ranking is the pair of rankings for P and E\nnum_retr_docs = 5\nE = [i for i in itertools.product(grading_scheme, repeat = num_retr_docs)]\nP = E[:] # copy list for P\n\n## Generate pairs of ranking\n# Convention: tuple[0] is the ranking for E, and tuple[1] is for P\nranking_pairs = [(e,p) for e in E for p in P]\n\n# There are 3 ^ 10 ranking pairs\nprint 'Number of ranking pairs: ', len(ranking_pairs)\nprint ranking_pairs[np.random.randint(len(ranking_pairs))]",
          "outputs": [
            {
              "output_type": "stream",
              "text": "Number of ranking pairs:  59049\n(('R', 'R', 'N', 'HR', 'R'), ('N', 'HR', 'HR', 'HR', 'N'))\n",
              "stream": "stdout"
            }
          ],
          "language": "python",
          "metadata": {
            "cellView": null,
            "executionInfo": {
              "content": {
                "status": "ok",
                "execution_count": 35,
                "payload": [],
                "user_expressions": {},
                "user_variables": {}
              },
              "timestamp": 1484237020175,
              "user_tz": -60,
              "user": {
                "sessionId": "782575c2fcf1575",
                "userId": "112529955284751587675",
                "permissionId": "04679598140879219033",
                "displayName": "Dana Kianfar",
                "color": "#1FA15D",
                "isMe": true,
                "isAnonymous": false,
                "photoUrl": "//lh4.googleusercontent.com/-wuXN9UJDeVQ/AAAAAAAAAAI/AAAAAAAAL38/QdqQHlnDG58/s50-c-k-no/photo.jpg"
              }
            }
          }
        },
        {
          "level": 3,
          "cell_type": "heading",
          "source": "Step 2: Implement Evaluation Measures"
        },
        {
          "cell_type": "code",
          "input": "## Precision calculation\n# Receives a ranking rank and returns its precision (up to position k)\n\ndef precision(rank, k = None):\n  \n  # If not precision@k then calculate precision for the full \n  if k is None:\n    k = len(rank)-1\n  \n  true_positives = [x for x in rank[:k+1] if x in relevant_labels]\n  return 1.0*len(true_positives)/(k+1)\n\n# Usage\n#precision(['N', 'N', 'HR', 'HR', 'N'],3)",
          "outputs": [],
          "language": "python",
          "metadata": {
            "cellView": null,
            "executionInfo": {
              "content": {
                "status": "ok",
                "execution_count": 36,
                "payload": [],
                "user_expressions": {},
                "user_variables": {}
              },
              "timestamp": 1484237021846,
              "user_tz": -60,
              "user": {
                "sessionId": "782575c2fcf1575",
                "userId": "112529955284751587675",
                "permissionId": "04679598140879219033",
                "displayName": "Dana Kianfar",
                "color": "#1FA15D",
                "isMe": true,
                "isAnonymous": false,
                "photoUrl": "//lh4.googleusercontent.com/-wuXN9UJDeVQ/AAAAAAAAAAI/AAAAAAAAL38/QdqQHlnDG58/s50-c-k-no/photo.jpg"
              }
            }
          }
        },
        {
          "cell_type": "code",
          "input": "## Average Precision (AP)\n# Receives a ranking rank and calculates the average of precisions at relevant documents\n\ndef average_precision(rank, num_total_relevant):\n  rel_idx = [i for i in range(len(rank)) if rank[i] in relevant_labels]\n  \n  acum = 0.0\n  \n  for k in rel_idx:\n    acum += precision(rank, k)\n\n  return 1.0* acum / num_total_relevant\n\n# Usage\n#average_precision(['N', 'N', 'HR', 'HR', 'N'], num_total_relevant)",
          "outputs": [],
          "language": "python",
          "metadata": {
            "cellView": null,
            "executionInfo": {
              "content": {
                "status": "ok",
                "execution_count": 37,
                "payload": [],
                "user_expressions": {},
                "user_variables": {}
              },
              "timestamp": 1484237022881,
              "user_tz": -60,
              "user": {
                "sessionId": "782575c2fcf1575",
                "userId": "112529955284751587675",
                "permissionId": "04679598140879219033",
                "displayName": "Dana Kianfar",
                "color": "#1FA15D",
                "isMe": true,
                "isAnonymous": false,
                "photoUrl": "//lh4.googleusercontent.com/-wuXN9UJDeVQ/AAAAAAAAAAI/AAAAAAAAL38/QdqQHlnDG58/s50-c-k-no/photo.jpg"
              }
            }
          }
        },
        {
          "cell_type": "code",
          "input": "# Relevance measures for different grades\nrel_N = 0\nrel_R = 1\nrel_HR = 5\n\nrelevance = {'N':rel_N, 'R':rel_R, 'HR':rel_HR}\n\n# Best possible ranking\nbest_ranking = ['HR','HR','HR','HR','HR']",
          "outputs": [],
          "language": "python",
          "metadata": {
            "cellView": null,
            "executionInfo": {
              "content": {
                "status": "ok",
                "execution_count": 39,
                "payload": [],
                "user_expressions": {},
                "user_variables": {}
              },
              "timestamp": 1484237026869,
              "user_tz": -60,
              "user": {
                "sessionId": "782575c2fcf1575",
                "userId": "112529955284751587675",
                "permissionId": "04679598140879219033",
                "displayName": "Dana Kianfar",
                "color": "#1FA15D",
                "isMe": true,
                "isAnonymous": false,
                "photoUrl": "//lh4.googleusercontent.com/-wuXN9UJDeVQ/AAAAAAAAAAI/AAAAAAAAL38/QdqQHlnDG58/s50-c-k-no/photo.jpg"
              }
            }
          }
        },
        {
          "cell_type": "code",
          "input": "## Discounted Cumulative Gain at k-th rank\n# Performs DCG@K evaluation. \n# ranking: a list of grades for a given query\n# k: the cut-off parameter\ndef dcg(ranking, k):\n  gains = [(2**relevance[rank]-1)/(np.log2(1+(i+1))) for i, rank in enumerate(ranking[:k])] # Discounted gain at each rank\n  return sum(gains) # cumulated gains\n  \n# Usage\nprint dcg(best_ranking, 5)",
          "outputs": [
            {
              "output_type": "stream",
              "text": "91.4022326853\n",
              "stream": "stdout"
            }
          ],
          "language": "python",
          "metadata": {
            "cellView": null,
            "executionInfo": {
              "content": {
                "status": "ok",
                "execution_count": 40,
                "payload": [],
                "user_expressions": {},
                "user_variables": {}
              },
              "timestamp": 1484237029593,
              "user_tz": -60,
              "user": {
                "sessionId": "782575c2fcf1575",
                "userId": "112529955284751587675",
                "permissionId": "04679598140879219033",
                "displayName": "Dana Kianfar",
                "color": "#1FA15D",
                "isMe": true,
                "isAnonymous": false,
                "photoUrl": "//lh4.googleusercontent.com/-wuXN9UJDeVQ/AAAAAAAAAAI/AAAAAAAAL38/QdqQHlnDG58/s50-c-k-no/photo.jpg"
              }
            }
          }
        },
        {
          "cell_type": "code",
          "input": "# Normalized Discounted Cumulative Gain at k-th rank\n# Performs DCG@k and normalizes using the best possible ranking. Results in a metric within [0,1]\ndef ndcg(ranking, k, best_ranking):\n  return dcg(ranking, k)/dcg(best_ranking, k)\n\n# Usage\nprint ndcg(best_ranking, 5, best_ranking)",
          "outputs": [
            {
              "output_type": "stream",
              "text": "1.0\n",
              "stream": "stdout"
            }
          ],
          "language": "python",
          "metadata": {
            "cellView": null,
            "executionInfo": {
              "content": {
                "status": "ok",
                "execution_count": 41,
                "payload": [],
                "user_expressions": {},
                "user_variables": {}
              },
              "timestamp": 1484237030983,
              "user_tz": -60,
              "user": {
                "sessionId": "782575c2fcf1575",
                "userId": "112529955284751587675",
                "permissionId": "04679598140879219033",
                "displayName": "Dana Kianfar",
                "color": "#1FA15D",
                "isMe": true,
                "isAnonymous": false,
                "photoUrl": "//lh4.googleusercontent.com/-wuXN9UJDeVQ/AAAAAAAAAAI/AAAAAAAAL38/QdqQHlnDG58/s50-c-k-no/photo.jpg"
              }
            }
          }
        },
        {
          "cell_type": "code",
          "input": "## Rank Biased Precision\n# Receives ranking rank and persistence theta and returns the expected utility at stopping\ndef rbp(rank, theta = 0.8):\n  acum = 0\n  \n  for k in range(len(rank)):\n    acum += relevance[rank[k]] * (1 - theta) * (theta ** k)\n    \n  return acum\n\n# Usage\n#rbp(['HR', 'N', 'N', 'HR', 'R'])",
          "outputs": [],
          "language": "python",
          "metadata": {
            "cellView": null,
            "executionInfo": {
              "content": {
                "status": "ok",
                "execution_count": 130,
                "payload": [],
                "user_expressions": {},
                "user_variables": {}
              },
              "timestamp": 1484237046560,
              "user_tz": -60,
              "user": {
                "sessionId": "5cc7e89a08629347",
                "userId": "103200528046731184799",
                "permissionId": "17343136503924703230",
                "displayName": "Jose Daniel Gallego",
                "color": "#1FA15D",
                "isMe": true,
                "isAnonymous": false,
                "photoUrl": "//lh3.googleusercontent.com/-UeZcV3K1UA8/AAAAAAAAAAI/AAAAAAAABs0/qZwtdn6mzWc/s50-c-k-no/photo.jpg"
              }
            }
          }
        },
        {
          "level": 3,
          "cell_type": "heading",
          "source": "Step 3: Calculate the $\\Delta$ Measure"
        },
        {
          "cell_type": "code",
          "input": "## Delta measure\n# Receives lists of rankings E and P and several measures (with possible parameters in args) and return the delta measure for each possible pair of E and P and each measure\ndef delta_measure(E, P, measures, args):\n\n  # Create cartesian product between indices of E and P rankings\n  pair_idx_list = [pair for pair in itertools.product(range(len(E)),range(len(P)))]\n   \n  # Creates empty matrices for storing the value of each E and P ranking under several measures (columns)\n  E_measures = np.zeros((len(E), len(measures)))\n  P_measures = np.zeros((len(P), len(measures)))\n  \n  # Stores the delta measure (columns) for each possible pair (rows)\n  Delta = np.zeros((len(pair_idx_list), len(measures)))\n  \n  # Loops over the selected measures\n  for m in range(len(measures)):\n    \n    # Calculates and stores measure m for each ranking in E\n    for rank in range(len(E)):\n      E_measures[rank, m] = measures[m](E[rank], *args[m])\n    \n    # Calculates and stores measure m for each ranking in P\n    for rank in range(len(P)):\n      P_measures[rank, m] = measures[m](P[rank], *args[m])\n    \n    # Calculates the delta for measure m for each pair in the cartesian product of E and P\n    for pair_num in range(len(pair_idx_list)):\n      Delta[pair_num, m] = E_measures[ pair_idx_list[pair_num][0] , m] - P_measures[ pair_idx_list[pair_num][1] , m]\n  \n  return E_measures, P_measures, pair_idx_list, Delta\n",
          "outputs": [],
          "language": "python",
          "metadata": {
            "cellView": null,
            "executionInfo": {
              "content": {
                "status": "ok",
                "execution_count": 43,
                "payload": [],
                "user_expressions": {},
                "user_variables": {}
              },
              "timestamp": 1484237033754,
              "user_tz": -60,
              "user": {
                "sessionId": "782575c2fcf1575",
                "userId": "112529955284751587675",
                "permissionId": "04679598140879219033",
                "displayName": "Dana Kianfar",
                "color": "#1FA15D",
                "isMe": true,
                "isAnonymous": false,
                "photoUrl": "//lh4.googleusercontent.com/-wuXN9UJDeVQ/AAAAAAAAAAI/AAAAAAAAL38/QdqQHlnDG58/s50-c-k-no/photo.jpg"
              }
            }
          }
        },
        {
          "cell_type": "code",
          "input": "# Get delta measures for all 3 evaluation metrics\n# Em is the evaluation results on all rankings in E\n# Pm is the evaluation results for all rankings in P\n# pair_idx is every ranking pair between E and P. We only keep the indices of the rankings that refer to rows in E and P respectively.\n# Delta is the difference between the all evaluation measures between E and P. It is a 3^10 x 3 matrix, where the columns are ordered as follows: Average Precision, RBP, NDCG\nEm, Pm, pair_idx, Delta = delta_measure(E,P, [average_precision, rbp, ndcg], [[num_total_relevant], [0.8], [5, best_ranking]])\n\n\n# Example\n#idx = 6001\n#print ranking_pairs[idx]\n#print Em[pair_idx[idx][0]]\n#print Pm[pair_idx[idx][1]]\n#print Delta[idx]",
          "outputs": [
            {
              "output_type": "stream",
              "text": "(('N', 'N', 'HR', 'HR', 'N'), ('HR', 'N', 'N', 'HR', 'R'))\n[ 0.04166667  1.152       0.31564845]\n[ 0.105       1.59392     0.48946098]\n[-0.06333333 -0.44192    -0.17381252]\n",
              "stream": "stdout"
            }
          ],
          "language": "python",
          "metadata": {
            "cellView": null,
            "executionInfo": {
              "content": {
                "status": "ok",
                "execution_count": 46,
                "payload": [],
                "user_expressions": {},
                "user_variables": {}
              },
              "timestamp": 1484237050724,
              "user_tz": -60,
              "user": {
                "sessionId": "782575c2fcf1575",
                "userId": "112529955284751587675",
                "permissionId": "04679598140879219033",
                "displayName": "Dana Kianfar",
                "color": "#1FA15D",
                "isMe": true,
                "isAnonymous": false,
                "photoUrl": "//lh4.googleusercontent.com/-wuXN9UJDeVQ/AAAAAAAAAAI/AAAAAAAAL38/QdqQHlnDG58/s50-c-k-no/photo.jpg"
              }
            }
          }
        },
        {
          "cell_type": "code",
          "input": "",
          "outputs": [],
          "language": "python",
          "metadata": {
            "cellView": null,
            "executionInfo": null
          }
        }
      ]
    }
  ],
  "metadata": {
    "name": "11391014-11390689-hw1.ipynb",
    "colabVersion": "0.1"
  },
  "nbformat": 3,
  "nbformat_minor": 0
}